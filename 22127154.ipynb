{
 "cells": [
  {
   "cell_type": "markdown",
   "metadata": {},
   "source": [
    "# Nhập học học máy - Final\n",
    "\n",
    "**Lớp**: 22KHMT1\n",
    "\n",
    "**MSSV**: 22127154\n",
    "\n",
    "**Họ và tên**: Nguyễn Gia Huy\n",
    "\n",
    "**Link Google Drive**: [Link](https://drive.google.com/drive/folders/1UXwtj9SZLiOch9ScBImjy4SiJhZ9e5KZ?usp=sharing)\n",
    "\n",
    "**Link Github**: [Link](https://github.com/HZeroxium/Final_Machine_Learning)\n"
   ]
  },
  {
   "cell_type": "markdown",
   "metadata": {},
   "source": [
    "## Lưu ý\n",
    "\n",
    "Đoạn code bên dưới dùng để tùy chỉnh số worker (Logical processors) của máy tính để hỗ trợ đa luồng trong quá trình huấn luyện mô hình. Thầy có thể tùy chỉnh số worker phù hợp với máy tính của mình để tránh quá tải CPU.\n",
    "\n",
    "Nhằm đảm bảo về tốc độ khi thầy chạy file, ở phần ma trận các siêu tham số em sẽ giảm số lượng siêu tham số để giảm thời gian huấn luyện.\n"
   ]
  },
  {
   "cell_type": "code",
   "execution_count": 1,
   "metadata": {},
   "outputs": [
    {
     "name": "stdout",
     "output_type": "stream",
     "text": [
      "20\n"
     ]
    }
   ],
   "source": [
    "import os\n",
    "\n",
    "# Kiểm tra số lượng CPU\n",
    "print(os.cpu_count())"
   ]
  },
  {
   "cell_type": "code",
   "execution_count": 2,
   "metadata": {},
   "outputs": [],
   "source": [
    "# Số lượng worker tối đa\n",
    "MAX_WORKERS = 18  # Số lượng worker tối đa (Lưu ý: không vượt quá số lõi CPU)"
   ]
  },
  {
   "cell_type": "markdown",
   "metadata": {},
   "source": [
    "# 1. Khám phá và tiền xử lí dữ liệu\n",
    "\n",
    "## 1.1. Đọc và mô tả dữ liệu\n"
   ]
  },
  {
   "cell_type": "code",
   "execution_count": 3,
   "metadata": {},
   "outputs": [
    {
     "name": "stdout",
     "output_type": "stream",
     "text": [
      "Thông tin Tập Huấn Luyện:\n",
      "<class 'pandas.core.frame.DataFrame'>\n",
      "RangeIndex: 2000 entries, 0 to 1999\n",
      "Data columns (total 21 columns):\n",
      " #   Column         Non-Null Count  Dtype  \n",
      "---  ------         --------------  -----  \n",
      " 0   battery_power  2000 non-null   int64  \n",
      " 1   blue           2000 non-null   int64  \n",
      " 2   clock_speed    2000 non-null   float64\n",
      " 3   dual_sim       2000 non-null   int64  \n",
      " 4   fc             2000 non-null   int64  \n",
      " 5   four_g         2000 non-null   int64  \n",
      " 6   int_memory     2000 non-null   int64  \n",
      " 7   m_dep          2000 non-null   float64\n",
      " 8   mobile_wt      2000 non-null   int64  \n",
      " 9   n_cores        2000 non-null   int64  \n",
      " 10  pc             2000 non-null   int64  \n",
      " 11  px_height      2000 non-null   int64  \n",
      " 12  px_width       2000 non-null   int64  \n",
      " 13  ram            2000 non-null   int64  \n",
      " 14  sc_h           2000 non-null   int64  \n",
      " 15  sc_w           2000 non-null   int64  \n",
      " 16  talk_time      2000 non-null   int64  \n",
      " 17  three_g        2000 non-null   int64  \n",
      " 18  touch_screen   2000 non-null   int64  \n",
      " 19  wifi           2000 non-null   int64  \n",
      " 20  price_range    2000 non-null   int64  \n",
      "dtypes: float64(2), int64(19)\n",
      "memory usage: 328.3 KB\n",
      "None\n",
      "\n",
      "Thống kê Tập Huấn Luyện:\n",
      "       battery_power       blue  clock_speed     dual_sim           fc  \\\n",
      "count    2000.000000  2000.0000  2000.000000  2000.000000  2000.000000   \n",
      "mean     1238.518500     0.4950     1.522250     0.509500     4.309500   \n",
      "std       439.418206     0.5001     0.816004     0.500035     4.341444   \n",
      "min       501.000000     0.0000     0.500000     0.000000     0.000000   \n",
      "25%       851.750000     0.0000     0.700000     0.000000     1.000000   \n",
      "50%      1226.000000     0.0000     1.500000     1.000000     3.000000   \n",
      "75%      1615.250000     1.0000     2.200000     1.000000     7.000000   \n",
      "max      1998.000000     1.0000     3.000000     1.000000    19.000000   \n",
      "\n",
      "            four_g   int_memory        m_dep    mobile_wt      n_cores  ...  \\\n",
      "count  2000.000000  2000.000000  2000.000000  2000.000000  2000.000000  ...   \n",
      "mean      0.521500    32.046500     0.501750   140.249000     4.520500  ...   \n",
      "std       0.499662    18.145715     0.288416    35.399655     2.287837  ...   \n",
      "min       0.000000     2.000000     0.100000    80.000000     1.000000  ...   \n",
      "25%       0.000000    16.000000     0.200000   109.000000     3.000000  ...   \n",
      "50%       1.000000    32.000000     0.500000   141.000000     4.000000  ...   \n",
      "75%       1.000000    48.000000     0.800000   170.000000     7.000000  ...   \n",
      "max       1.000000    64.000000     1.000000   200.000000     8.000000  ...   \n",
      "\n",
      "         px_height     px_width          ram         sc_h         sc_w  \\\n",
      "count  2000.000000  2000.000000  2000.000000  2000.000000  2000.000000   \n",
      "mean    645.108000  1251.515500  2124.213000    12.306500     5.767000   \n",
      "std     443.780811   432.199447  1084.732044     4.213245     4.356398   \n",
      "min       0.000000   500.000000   256.000000     5.000000     0.000000   \n",
      "25%     282.750000   874.750000  1207.500000     9.000000     2.000000   \n",
      "50%     564.000000  1247.000000  2146.500000    12.000000     5.000000   \n",
      "75%     947.250000  1633.000000  3064.500000    16.000000     9.000000   \n",
      "max    1960.000000  1998.000000  3998.000000    19.000000    18.000000   \n",
      "\n",
      "         talk_time      three_g  touch_screen         wifi  price_range  \n",
      "count  2000.000000  2000.000000   2000.000000  2000.000000  2000.000000  \n",
      "mean     11.011000     0.761500      0.503000     0.507000     1.500000  \n",
      "std       5.463955     0.426273      0.500116     0.500076     1.118314  \n",
      "min       2.000000     0.000000      0.000000     0.000000     0.000000  \n",
      "25%       6.000000     1.000000      0.000000     0.000000     0.750000  \n",
      "50%      11.000000     1.000000      1.000000     1.000000     1.500000  \n",
      "75%      16.000000     1.000000      1.000000     1.000000     2.250000  \n",
      "max      20.000000     1.000000      1.000000     1.000000     3.000000  \n",
      "\n",
      "[8 rows x 21 columns]\n",
      "\n",
      "Kiểm tra giá trị bị thiếu Tập Huấn Luyện:\n",
      "battery_power    0\n",
      "blue             0\n",
      "clock_speed      0\n",
      "dual_sim         0\n",
      "fc               0\n",
      "four_g           0\n",
      "int_memory       0\n",
      "m_dep            0\n",
      "mobile_wt        0\n",
      "n_cores          0\n",
      "pc               0\n",
      "px_height        0\n",
      "px_width         0\n",
      "ram              0\n",
      "sc_h             0\n",
      "sc_w             0\n",
      "talk_time        0\n",
      "three_g          0\n",
      "touch_screen     0\n",
      "wifi             0\n",
      "price_range      0\n",
      "dtype: int64\n",
      "Thông tin Tập Kiểm Tra:\n",
      "<class 'pandas.core.frame.DataFrame'>\n",
      "RangeIndex: 1000 entries, 0 to 999\n",
      "Data columns (total 21 columns):\n",
      " #   Column         Non-Null Count  Dtype  \n",
      "---  ------         --------------  -----  \n",
      " 0   battery_power  1000 non-null   int64  \n",
      " 1   blue           1000 non-null   int64  \n",
      " 2   clock_speed    1000 non-null   float64\n",
      " 3   dual_sim       1000 non-null   int64  \n",
      " 4   fc             1000 non-null   int64  \n",
      " 5   four_g         1000 non-null   int64  \n",
      " 6   int_memory     1000 non-null   int64  \n",
      " 7   m_dep          1000 non-null   float64\n",
      " 8   mobile_wt      1000 non-null   int64  \n",
      " 9   n_cores        1000 non-null   int64  \n",
      " 10  pc             1000 non-null   int64  \n",
      " 11  px_height      1000 non-null   int64  \n",
      " 12  px_width       1000 non-null   int64  \n",
      " 13  ram            1000 non-null   int64  \n",
      " 14  sc_h           1000 non-null   int64  \n",
      " 15  sc_w           1000 non-null   int64  \n",
      " 16  talk_time      1000 non-null   int64  \n",
      " 17  three_g        1000 non-null   int64  \n",
      " 18  touch_screen   1000 non-null   int64  \n",
      " 19  wifi           1000 non-null   int64  \n",
      " 20  price_range    1000 non-null   int64  \n",
      "dtypes: float64(2), int64(19)\n",
      "memory usage: 164.2 KB\n",
      "None\n",
      "\n",
      "Thống kê Tập Kiểm Tra:\n",
      "       battery_power         blue  clock_speed     dual_sim           fc  \\\n",
      "count    1000.000000  1000.000000  1000.000000  1000.000000  1000.000000   \n",
      "mean     1248.510000     0.516000     1.540900     0.517000     4.593000   \n",
      "std       432.458227     0.499994     0.829268     0.499961     4.463325   \n",
      "min       500.000000     0.000000     0.500000     0.000000     0.000000   \n",
      "25%       895.000000     0.000000     0.700000     0.000000     1.000000   \n",
      "50%      1246.500000     1.000000     1.500000     1.000000     3.000000   \n",
      "75%      1629.250000     1.000000     2.300000     1.000000     7.000000   \n",
      "max      1999.000000     1.000000     3.000000     1.000000    19.000000   \n",
      "\n",
      "            four_g   int_memory        m_dep   mobile_wt      n_cores  ...  \\\n",
      "count  1000.000000  1000.000000  1000.000000  1000.00000  1000.000000  ...   \n",
      "mean      0.487000    33.652000     0.517500   139.51100     4.328000  ...   \n",
      "std       0.500081    18.128694     0.280861    34.85155     2.288155  ...   \n",
      "min       0.000000     2.000000     0.100000    80.00000     1.000000  ...   \n",
      "25%       0.000000    18.000000     0.300000   109.75000     2.000000  ...   \n",
      "50%       0.000000    34.500000     0.500000   139.00000     4.000000  ...   \n",
      "75%       1.000000    49.000000     0.800000   170.00000     6.000000  ...   \n",
      "max       1.000000    64.000000     1.000000   200.00000     8.000000  ...   \n",
      "\n",
      "         px_height     px_width          ram         sc_h         sc_w  \\\n",
      "count  1000.000000  1000.000000  1000.000000  1000.000000  1000.000000   \n",
      "mean    627.121000  1239.774000  2138.998000    11.995000     5.316000   \n",
      "std     432.929699   439.670981  1088.092278     4.320607     4.240062   \n",
      "min       0.000000   501.000000   263.000000     5.000000     0.000000   \n",
      "25%     263.750000   831.750000  1237.250000     8.000000     2.000000   \n",
      "50%     564.500000  1250.000000  2153.500000    12.000000     5.000000   \n",
      "75%     903.000000  1637.750000  3065.500000    16.000000     8.000000   \n",
      "max    1907.000000  1998.000000  3989.000000    19.000000    18.000000   \n",
      "\n",
      "         talk_time      three_g  touch_screen         wifi  price_range  \n",
      "count  1000.000000  1000.000000    1000.00000  1000.000000  1000.000000  \n",
      "mean     11.085000     0.756000       0.50000     0.507000     1.984000  \n",
      "std       5.497636     0.429708       0.50025     0.500201     0.822448  \n",
      "min       2.000000     0.000000       0.00000     0.000000     1.000000  \n",
      "25%       6.750000     1.000000       0.00000     0.000000     1.000000  \n",
      "50%      11.000000     1.000000       0.50000     1.000000     2.000000  \n",
      "75%      16.000000     1.000000       1.00000     1.000000     3.000000  \n",
      "max      20.000000     1.000000       1.00000     1.000000     3.000000  \n",
      "\n",
      "[8 rows x 21 columns]\n",
      "\n",
      "Kiểm tra giá trị bị thiếu Tập Kiểm Tra:\n",
      "battery_power    0\n",
      "blue             0\n",
      "clock_speed      0\n",
      "dual_sim         0\n",
      "fc               0\n",
      "four_g           0\n",
      "int_memory       0\n",
      "m_dep            0\n",
      "mobile_wt        0\n",
      "n_cores          0\n",
      "pc               0\n",
      "px_height        0\n",
      "px_width         0\n",
      "ram              0\n",
      "sc_h             0\n",
      "sc_w             0\n",
      "talk_time        0\n",
      "three_g          0\n",
      "touch_screen     0\n",
      "wifi             0\n",
      "price_range      0\n",
      "dtype: int64\n"
     ]
    }
   ],
   "source": [
    "from utils import exploring, preprocessing\n",
    "import numpy as np\n",
    "\n",
    "# Main Workflow\n",
    "train_data, test_data = exploring.load_data(\"./data/train.csv\", \"./data/test.csv\")\n",
    "\n",
    "# Khám phá dữ liệu\n",
    "exploring.summarize_data(train_data, \"Tập Huấn Luyện\")\n",
    "exploring.summarize_data(test_data, \"Tập Kiểm Tra\")"
   ]
  },
  {
   "cell_type": "markdown",
   "metadata": {},
   "source": [
    "## 1.2 Trực quan hóa phân phối nhãn\n"
   ]
  },
  {
   "cell_type": "code",
   "execution_count": 4,
   "metadata": {},
   "outputs": [
    {
     "data": {
      "image/png": "[encoded data removed]",
      "text/plain": [
       "<Figure size 1000x600 with 1 Axes>"
      ]
     },
     "metadata": {},
     "output_type": "display_data"
    },
    {
     "data": {
      "image/png": "[encoded data removed]",
      "text/plain": [
       "<Figure size 1000x600 with 1 Axes>"
      ]
     },
     "metadata": {},
     "output_type": "display_data"
    }
   ],
   "source": [
    "# Trực quan hóa\n",
    "exploring.visualize_distribution(\n",
    "    train_data,\n",
    "    \"price_range\",\n",
    "    \"Phân phối nhãn mục tiêu tập huấn luyện\",\n",
    "    \"Price Range\",\n",
    "    \"Số lượng\",\n",
    ")\n",
    "exploring.visualize_distribution(\n",
    "    test_data,\n",
    "    \"price_range\",\n",
    "    \"Phân phối nhãn mục tiêu tập kiểm tra\",\n",
    "    \"Price Range\",\n",
    "    \"Số lượng\",\n",
    ")"
   ]
  },
  {
   "cell_type": "markdown",
   "metadata": {},
   "source": [
    "## 1.3 Trực quan hóa ma trận tương quan\n"
   ]
  },
  {
   "cell_type": "code",
   "execution_count": 5,
   "metadata": {},
   "outputs": [
    {
     "data": {
      "image/png": "[encoded data removed]",
      "text/plain": [
       "<Figure size 1200x1000 with 2 Axes>"
      ]
     },
     "metadata": {},
     "output_type": "display_data"
    },
    {
     "data": {
      "image/png": "[encoded data removed]",
      "text/plain": [
       "<Figure size 1200x1000 with 2 Axes>"
      ]
     },
     "metadata": {},
     "output_type": "display_data"
    }
   ],
   "source": [
    "# Ma trận tương quan\n",
    "exploring.plot_correlation_matrix(train_data, \"Ma trận tương quan tập huấn luyện\")\n",
    "exploring.plot_correlation_matrix(test_data, \"Ma trận tương quan tập kiểm tra\")"
   ]
  },
  {
   "cell_type": "markdown",
   "metadata": {},
   "source": [
    "## 1.4. Trực quan hóa phân phối của các biến độc lập\n"
   ]
  },
  {
   "cell_type": "code",
   "execution_count": 6,
   "metadata": {},
   "outputs": [
    {
     "data": {
      "image/png": "[encoded data removed]",
      "text/plain": [
       "<Figure size 800x500 with 1 Axes>"
      ]
     },
     "metadata": {},
     "output_type": "display_data"
    },
    {
     "data": {
      "image/png": "[encoded data removed]",
      "text/plain": [
       "<Figure size 800x500 with 1 Axes>"
      ]
     },
     "metadata": {},
     "output_type": "display_data"
    },
    {
     "data": {
      "image/png": "[encoded data removed]",
      "text/plain": [
       "<Figure size 800x500 with 1 Axes>"
      ]
     },
     "metadata": {},
     "output_type": "display_data"
    },
    {
     "data": {
      "image/png": "[encoded data removed]",
      "text/plain": [
       "<Figure size 800x500 with 1 Axes>"
      ]
     },
     "metadata": {},
     "output_type": "display_data"
    },
    {
     "data": {
      "image/png": "[encoded data removed]",
      "text/plain": [
       "<Figure size 800x500 with 1 Axes>"
      ]
     },
     "metadata": {},
     "output_type": "display_data"
    },
    {
     "data": {
      "image/png": "[encoded data removed]",
      "text/plain": [
       "<Figure size 800x500 with 1 Axes>"
      ]
     },
     "metadata": {},
     "output_type": "display_data"
    },
    {
     "data": {
      "image/png": "[encoded data removed]",
      "text/plain": [
       "<Figure size 800x500 with 1 Axes>"
      ]
     },
     "metadata": {},
     "output_type": "display_data"
    },
    {
     "data": {
      "image/png": "[encoded data removed]",
      "text/plain": [
       "<Figure size 800x500 with 1 Axes>"
      ]
     },
     "metadata": {},
     "output_type": "display_data"
    }
   ],
   "source": [
    "continuous_features = [\"battery_power\", \"ram\", \"px_height\", \"px_width\"]\n",
    "exploring.visualize_continuous_features(\n",
    "    train_data, continuous_features, \"Tập Huấn Luyện\"\n",
    ")\n",
    "exploring.visualize_continuous_features(test_data, continuous_features, \"Tập Kiểm Tra\")"
   ]
  },
  {
   "cell_type": "markdown",
   "metadata": {},
   "source": [
    "## 1.5. Xử lí loại bỏ các đặc trưng có tương quan cao\n"
   ]
  },
  {
   "cell_type": "code",
   "execution_count": 7,
   "metadata": {},
   "outputs": [
    {
     "name": "stdout",
     "output_type": "stream",
     "text": [
      "Các đặc trưng có tương quan cao (>0.9): []\n"
     ]
    }
   ],
   "source": [
    "high_corr_features = preprocessing.identify_high_correlation(\n",
    "    train_data.drop(columns=[\"price_range\"])\n",
    ")\n",
    "train_data.drop(columns=high_corr_features, inplace=True)\n",
    "test_data.drop(columns=high_corr_features, inplace=True)"
   ]
  },
  {
   "cell_type": "markdown",
   "metadata": {},
   "source": [
    "## 1.6. Xử lí các giá trị thiếu\n"
   ]
  },
  {
   "cell_type": "code",
   "execution_count": 8,
   "metadata": {},
   "outputs": [
    {
     "name": "stdout",
     "output_type": "stream",
     "text": [
      "Không có giá trị bị thiếu.\n",
      "Không có giá trị bị thiếu.\n"
     ]
    }
   ],
   "source": [
    "preprocessing.handle_missing_values(train_data)\n",
    "preprocessing.handle_missing_values(test_data)"
   ]
  },
  {
   "cell_type": "markdown",
   "metadata": {},
   "source": [
    "## 1.7. Feature Engineering tạo thêm các đặc trưng mới\n",
    "\n",
    "`aspect_ratio` = `ps_height` / `ps_width`\n",
    "\n",
    "`power_to_weight` = `battery_power` / `mobile_wt`\n"
   ]
  },
  {
   "cell_type": "code",
   "execution_count": 9,
   "metadata": {},
   "outputs": [],
   "source": [
    "# Tạo đặc trưng mới\n",
    "train_data, test_data = preprocessing.feature_engineering(train_data, test_data)"
   ]
  },
  {
   "cell_type": "markdown",
   "metadata": {},
   "source": [
    "## 1.8 Chuẩn hóa dữ liệu (Normalization)\n"
   ]
  },
  {
   "cell_type": "code",
   "execution_count": 10,
   "metadata": {},
   "outputs": [],
   "source": [
    "# # Chuẩn hóa dữ liệu liên tục\n",
    "continuous_features = [\n",
    "    \"battery_power\",\n",
    "    \"clock_speed\",\n",
    "    \"fc\",\n",
    "    \"int_memory\",\n",
    "    \"m_dep\",\n",
    "    \"mobile_wt\",\n",
    "    \"px_height\",\n",
    "    \"px_width\",\n",
    "    \"ram\",\n",
    "    \"sc_h\",\n",
    "    \"sc_w\",\n",
    "    \"talk_time\",\n",
    "    \"aspect_ratio\",\n",
    "    \"power_to_weight\",\n",
    "]\n",
    "\n",
    "train_data[continuous_features], scaling_params = preprocessing.fit_transform(\n",
    "    train_data[continuous_features].copy(), continuous_features\n",
    ")\n",
    "test_data[continuous_features] = preprocessing.transform(\n",
    "    test_data[continuous_features].copy(), continuous_features, scaling_params\n",
    ")"
   ]
  },
  {
   "cell_type": "code",
   "execution_count": 11,
   "metadata": {},
   "outputs": [
    {
     "data": {
      "text/html": [
       "<div>\n",
       "<style scoped>\n",
       "    .dataframe tbody tr th:only-of-type {\n",
       "        vertical-align: middle;\n",
       "    }\n",
       "\n",
       "    .dataframe tbody tr th {\n",
       "        vertical-align: top;\n",
       "    }\n",
       "\n",
       "    .dataframe thead th {\n",
       "        text-align: right;\n",
       "    }\n",
       "</style>\n",
       "<table border=\"1\" class=\"dataframe\">\n",
       "  <thead>\n",
       "    <tr style=\"text-align: right;\">\n",
       "      <th></th>\n",
       "      <th>battery_power</th>\n",
       "      <th>blue</th>\n",
       "      <th>clock_speed</th>\n",
       "      <th>dual_sim</th>\n",
       "      <th>fc</th>\n",
       "      <th>four_g</th>\n",
       "      <th>int_memory</th>\n",
       "      <th>m_dep</th>\n",
       "      <th>mobile_wt</th>\n",
       "      <th>n_cores</th>\n",
       "      <th>...</th>\n",
       "      <th>ram</th>\n",
       "      <th>sc_h</th>\n",
       "      <th>sc_w</th>\n",
       "      <th>talk_time</th>\n",
       "      <th>three_g</th>\n",
       "      <th>touch_screen</th>\n",
       "      <th>wifi</th>\n",
       "      <th>price_range</th>\n",
       "      <th>aspect_ratio</th>\n",
       "      <th>power_to_weight</th>\n",
       "    </tr>\n",
       "  </thead>\n",
       "  <tbody>\n",
       "    <tr>\n",
       "      <th>0</th>\n",
       "      <td>0.227789</td>\n",
       "      <td>0</td>\n",
       "      <td>0.68</td>\n",
       "      <td>0</td>\n",
       "      <td>0.052632</td>\n",
       "      <td>0</td>\n",
       "      <td>0.080645</td>\n",
       "      <td>0.555556</td>\n",
       "      <td>0.900000</td>\n",
       "      <td>2</td>\n",
       "      <td>...</td>\n",
       "      <td>0.612774</td>\n",
       "      <td>0.285714</td>\n",
       "      <td>0.388889</td>\n",
       "      <td>0.944444</td>\n",
       "      <td>0</td>\n",
       "      <td>0</td>\n",
       "      <td>1</td>\n",
       "      <td>1</td>\n",
       "      <td>0.026474</td>\n",
       "      <td>0.087906</td>\n",
       "    </tr>\n",
       "    <tr>\n",
       "      <th>1</th>\n",
       "      <td>0.347361</td>\n",
       "      <td>1</td>\n",
       "      <td>0.00</td>\n",
       "      <td>1</td>\n",
       "      <td>0.000000</td>\n",
       "      <td>1</td>\n",
       "      <td>0.822581</td>\n",
       "      <td>0.666667</td>\n",
       "      <td>0.466667</td>\n",
       "      <td>3</td>\n",
       "      <td>...</td>\n",
       "      <td>0.634687</td>\n",
       "      <td>0.857143</td>\n",
       "      <td>0.166667</td>\n",
       "      <td>0.277778</td>\n",
       "      <td>1</td>\n",
       "      <td>1</td>\n",
       "      <td>0</td>\n",
       "      <td>2</td>\n",
       "      <td>0.455561</td>\n",
       "      <td>0.224009</td>\n",
       "    </tr>\n",
       "    <tr>\n",
       "      <th>2</th>\n",
       "      <td>0.041416</td>\n",
       "      <td>1</td>\n",
       "      <td>0.00</td>\n",
       "      <td>1</td>\n",
       "      <td>0.105263</td>\n",
       "      <td>1</td>\n",
       "      <td>0.629032</td>\n",
       "      <td>0.888889</td>\n",
       "      <td>0.541667</td>\n",
       "      <td>5</td>\n",
       "      <td>...</td>\n",
       "      <td>0.627205</td>\n",
       "      <td>0.428571</td>\n",
       "      <td>0.111111</td>\n",
       "      <td>0.388889</td>\n",
       "      <td>1</td>\n",
       "      <td>1</td>\n",
       "      <td>0</td>\n",
       "      <td>2</td>\n",
       "      <td>0.736547</td>\n",
       "      <td>0.061124</td>\n",
       "    </tr>\n",
       "    <tr>\n",
       "      <th>3</th>\n",
       "      <td>0.076152</td>\n",
       "      <td>1</td>\n",
       "      <td>0.80</td>\n",
       "      <td>0</td>\n",
       "      <td>0.000000</td>\n",
       "      <td>0</td>\n",
       "      <td>0.129032</td>\n",
       "      <td>0.777778</td>\n",
       "      <td>0.425000</td>\n",
       "      <td>6</td>\n",
       "      <td>...</td>\n",
       "      <td>0.671566</td>\n",
       "      <td>0.785714</td>\n",
       "      <td>0.444444</td>\n",
       "      <td>0.500000</td>\n",
       "      <td>1</td>\n",
       "      <td>0</td>\n",
       "      <td>0</td>\n",
       "      <td>2</td>\n",
       "      <td>0.681344</td>\n",
       "      <td>0.097609</td>\n",
       "    </tr>\n",
       "    <tr>\n",
       "      <th>4</th>\n",
       "      <td>0.881764</td>\n",
       "      <td>1</td>\n",
       "      <td>0.28</td>\n",
       "      <td>0</td>\n",
       "      <td>0.684211</td>\n",
       "      <td>1</td>\n",
       "      <td>0.677419</td>\n",
       "      <td>0.555556</td>\n",
       "      <td>0.508333</td>\n",
       "      <td>2</td>\n",
       "      <td>...</td>\n",
       "      <td>0.308658</td>\n",
       "      <td>0.214286</td>\n",
       "      <td>0.111111</td>\n",
       "      <td>0.722222</td>\n",
       "      <td>1</td>\n",
       "      <td>1</td>\n",
       "      <td>0</td>\n",
       "      <td>1</td>\n",
       "      <td>0.997421</td>\n",
       "      <td>0.467019</td>\n",
       "    </tr>\n",
       "  </tbody>\n",
       "</table>\n",
       "<p>5 rows × 23 columns</p>\n",
       "</div>"
      ],
      "text/plain": [
       "   battery_power  blue  clock_speed  dual_sim        fc  four_g  int_memory  \\\n",
       "0       0.227789     0         0.68         0  0.052632       0    0.080645   \n",
       "1       0.347361     1         0.00         1  0.000000       1    0.822581   \n",
       "2       0.041416     1         0.00         1  0.105263       1    0.629032   \n",
       "3       0.076152     1         0.80         0  0.000000       0    0.129032   \n",
       "4       0.881764     1         0.28         0  0.684211       1    0.677419   \n",
       "\n",
       "      m_dep  mobile_wt  n_cores  ...       ram      sc_h      sc_w  talk_time  \\\n",
       "0  0.555556   0.900000        2  ...  0.612774  0.285714  0.388889   0.944444   \n",
       "1  0.666667   0.466667        3  ...  0.634687  0.857143  0.166667   0.277778   \n",
       "2  0.888889   0.541667        5  ...  0.627205  0.428571  0.111111   0.388889   \n",
       "3  0.777778   0.425000        6  ...  0.671566  0.785714  0.444444   0.500000   \n",
       "4  0.555556   0.508333        2  ...  0.308658  0.214286  0.111111   0.722222   \n",
       "\n",
       "   three_g  touch_screen  wifi  price_range  aspect_ratio  power_to_weight  \n",
       "0        0             0     1            1      0.026474         0.087906  \n",
       "1        1             1     0            2      0.455561         0.224009  \n",
       "2        1             1     0            2      0.736547         0.061124  \n",
       "3        1             0     0            2      0.681344         0.097609  \n",
       "4        1             1     0            1      0.997421         0.467019  \n",
       "\n",
       "[5 rows x 23 columns]"
      ]
     },
     "execution_count": 11,
     "metadata": {},
     "output_type": "execute_result"
    }
   ],
   "source": [
    "train_data.head()"
   ]
  },
  {
   "cell_type": "markdown",
   "metadata": {},
   "source": [
    "## 1.9. Categotical Encoding\n"
   ]
  },
  {
   "cell_type": "code",
   "execution_count": 12,
   "metadata": {},
   "outputs": [
    {
     "name": "stdout",
     "output_type": "stream",
     "text": [
      "Train shape: (2000, 29)\n",
      "Test shape: (1000, 29)\n"
     ]
    }
   ],
   "source": [
    "# Mã hóa dữ liệu phân loại\n",
    "categorical_features = [\n",
    "    # \"fc\",\n",
    "    # \"int_memory\",\n",
    "    # \"m_dep\",\n",
    "    \"n_cores\",\n",
    "    # \"pc\",\n",
    "    # \"sc_h\",\n",
    "    # \"sc_w\",\n",
    "    # \"talk_time\",\n",
    "]\n",
    "train_data, test_data = preprocessing.categorical_encoding(\n",
    "    train_data, test_data, categorical_features\n",
    ")\n",
    "\n",
    "# # Drop all rows in train_data where price_range = 0\n",
    "# train_data = train_data[train_data[\"price_range\"] != 0]\n",
    "\n",
    "# Kiểm tra tính nhất quán của dữ liệu\n",
    "print(\"Train shape:\", train_data.shape)\n",
    "print(\"Test shape:\", test_data.shape)"
   ]
  },
  {
   "cell_type": "code",
   "execution_count": 13,
   "metadata": {},
   "outputs": [
    {
     "data": {
      "text/html": [
       "<div>\n",
       "<style scoped>\n",
       "    .dataframe tbody tr th:only-of-type {\n",
       "        vertical-align: middle;\n",
       "    }\n",
       "\n",
       "    .dataframe tbody tr th {\n",
       "        vertical-align: top;\n",
       "    }\n",
       "\n",
       "    .dataframe thead th {\n",
       "        text-align: right;\n",
       "    }\n",
       "</style>\n",
       "<table border=\"1\" class=\"dataframe\">\n",
       "  <thead>\n",
       "    <tr style=\"text-align: right;\">\n",
       "      <th></th>\n",
       "      <th>battery_power</th>\n",
       "      <th>blue</th>\n",
       "      <th>clock_speed</th>\n",
       "      <th>dual_sim</th>\n",
       "      <th>fc</th>\n",
       "      <th>four_g</th>\n",
       "      <th>int_memory</th>\n",
       "      <th>m_dep</th>\n",
       "      <th>mobile_wt</th>\n",
       "      <th>pc</th>\n",
       "      <th>...</th>\n",
       "      <th>price_range</th>\n",
       "      <th>aspect_ratio</th>\n",
       "      <th>power_to_weight</th>\n",
       "      <th>n_cores_2</th>\n",
       "      <th>n_cores_3</th>\n",
       "      <th>n_cores_4</th>\n",
       "      <th>n_cores_5</th>\n",
       "      <th>n_cores_6</th>\n",
       "      <th>n_cores_7</th>\n",
       "      <th>n_cores_8</th>\n",
       "    </tr>\n",
       "  </thead>\n",
       "  <tbody>\n",
       "    <tr>\n",
       "      <th>0</th>\n",
       "      <td>0.227789</td>\n",
       "      <td>0</td>\n",
       "      <td>0.68</td>\n",
       "      <td>0</td>\n",
       "      <td>0.052632</td>\n",
       "      <td>0</td>\n",
       "      <td>0.080645</td>\n",
       "      <td>0.555556</td>\n",
       "      <td>0.900000</td>\n",
       "      <td>2</td>\n",
       "      <td>...</td>\n",
       "      <td>1</td>\n",
       "      <td>0.026474</td>\n",
       "      <td>0.087906</td>\n",
       "      <td>True</td>\n",
       "      <td>False</td>\n",
       "      <td>False</td>\n",
       "      <td>False</td>\n",
       "      <td>False</td>\n",
       "      <td>False</td>\n",
       "      <td>False</td>\n",
       "    </tr>\n",
       "    <tr>\n",
       "      <th>1</th>\n",
       "      <td>0.347361</td>\n",
       "      <td>1</td>\n",
       "      <td>0.00</td>\n",
       "      <td>1</td>\n",
       "      <td>0.000000</td>\n",
       "      <td>1</td>\n",
       "      <td>0.822581</td>\n",
       "      <td>0.666667</td>\n",
       "      <td>0.466667</td>\n",
       "      <td>6</td>\n",
       "      <td>...</td>\n",
       "      <td>2</td>\n",
       "      <td>0.455561</td>\n",
       "      <td>0.224009</td>\n",
       "      <td>False</td>\n",
       "      <td>True</td>\n",
       "      <td>False</td>\n",
       "      <td>False</td>\n",
       "      <td>False</td>\n",
       "      <td>False</td>\n",
       "      <td>False</td>\n",
       "    </tr>\n",
       "    <tr>\n",
       "      <th>2</th>\n",
       "      <td>0.041416</td>\n",
       "      <td>1</td>\n",
       "      <td>0.00</td>\n",
       "      <td>1</td>\n",
       "      <td>0.105263</td>\n",
       "      <td>1</td>\n",
       "      <td>0.629032</td>\n",
       "      <td>0.888889</td>\n",
       "      <td>0.541667</td>\n",
       "      <td>6</td>\n",
       "      <td>...</td>\n",
       "      <td>2</td>\n",
       "      <td>0.736547</td>\n",
       "      <td>0.061124</td>\n",
       "      <td>False</td>\n",
       "      <td>False</td>\n",
       "      <td>False</td>\n",
       "      <td>True</td>\n",
       "      <td>False</td>\n",
       "      <td>False</td>\n",
       "      <td>False</td>\n",
       "    </tr>\n",
       "    <tr>\n",
       "      <th>3</th>\n",
       "      <td>0.076152</td>\n",
       "      <td>1</td>\n",
       "      <td>0.80</td>\n",
       "      <td>0</td>\n",
       "      <td>0.000000</td>\n",
       "      <td>0</td>\n",
       "      <td>0.129032</td>\n",
       "      <td>0.777778</td>\n",
       "      <td>0.425000</td>\n",
       "      <td>9</td>\n",
       "      <td>...</td>\n",
       "      <td>2</td>\n",
       "      <td>0.681344</td>\n",
       "      <td>0.097609</td>\n",
       "      <td>False</td>\n",
       "      <td>False</td>\n",
       "      <td>False</td>\n",
       "      <td>False</td>\n",
       "      <td>True</td>\n",
       "      <td>False</td>\n",
       "      <td>False</td>\n",
       "    </tr>\n",
       "    <tr>\n",
       "      <th>4</th>\n",
       "      <td>0.881764</td>\n",
       "      <td>1</td>\n",
       "      <td>0.28</td>\n",
       "      <td>0</td>\n",
       "      <td>0.684211</td>\n",
       "      <td>1</td>\n",
       "      <td>0.677419</td>\n",
       "      <td>0.555556</td>\n",
       "      <td>0.508333</td>\n",
       "      <td>14</td>\n",
       "      <td>...</td>\n",
       "      <td>1</td>\n",
       "      <td>0.997421</td>\n",
       "      <td>0.467019</td>\n",
       "      <td>True</td>\n",
       "      <td>False</td>\n",
       "      <td>False</td>\n",
       "      <td>False</td>\n",
       "      <td>False</td>\n",
       "      <td>False</td>\n",
       "      <td>False</td>\n",
       "    </tr>\n",
       "  </tbody>\n",
       "</table>\n",
       "<p>5 rows × 29 columns</p>\n",
       "</div>"
      ],
      "text/plain": [
       "   battery_power  blue  clock_speed  dual_sim        fc  four_g  int_memory  \\\n",
       "0       0.227789     0         0.68         0  0.052632       0    0.080645   \n",
       "1       0.347361     1         0.00         1  0.000000       1    0.822581   \n",
       "2       0.041416     1         0.00         1  0.105263       1    0.629032   \n",
       "3       0.076152     1         0.80         0  0.000000       0    0.129032   \n",
       "4       0.881764     1         0.28         0  0.684211       1    0.677419   \n",
       "\n",
       "      m_dep  mobile_wt  pc  ...  price_range  aspect_ratio  power_to_weight  \\\n",
       "0  0.555556   0.900000   2  ...            1      0.026474         0.087906   \n",
       "1  0.666667   0.466667   6  ...            2      0.455561         0.224009   \n",
       "2  0.888889   0.541667   6  ...            2      0.736547         0.061124   \n",
       "3  0.777778   0.425000   9  ...            2      0.681344         0.097609   \n",
       "4  0.555556   0.508333  14  ...            1      0.997421         0.467019   \n",
       "\n",
       "   n_cores_2  n_cores_3  n_cores_4  n_cores_5  n_cores_6  n_cores_7  n_cores_8  \n",
       "0       True      False      False      False      False      False      False  \n",
       "1      False       True      False      False      False      False      False  \n",
       "2      False      False      False       True      False      False      False  \n",
       "3      False      False      False      False       True      False      False  \n",
       "4       True      False      False      False      False      False      False  \n",
       "\n",
       "[5 rows x 29 columns]"
      ]
     },
     "execution_count": 13,
     "metadata": {},
     "output_type": "execute_result"
    }
   ],
   "source": [
    "# Kiểm tra lại dữ liệu\n",
    "train_data.head()"
   ]
  },
  {
   "cell_type": "code",
   "execution_count": 14,
   "metadata": {},
   "outputs": [
    {
     "data": {
      "text/html": [
       "<div>\n",
       "<style scoped>\n",
       "    .dataframe tbody tr th:only-of-type {\n",
       "        vertical-align: middle;\n",
       "    }\n",
       "\n",
       "    .dataframe tbody tr th {\n",
       "        vertical-align: top;\n",
       "    }\n",
       "\n",
       "    .dataframe thead th {\n",
       "        text-align: right;\n",
       "    }\n",
       "</style>\n",
       "<table border=\"1\" class=\"dataframe\">\n",
       "  <thead>\n",
       "    <tr style=\"text-align: right;\">\n",
       "      <th></th>\n",
       "      <th>battery_power</th>\n",
       "      <th>blue</th>\n",
       "      <th>clock_speed</th>\n",
       "      <th>dual_sim</th>\n",
       "      <th>fc</th>\n",
       "      <th>four_g</th>\n",
       "      <th>int_memory</th>\n",
       "      <th>m_dep</th>\n",
       "      <th>mobile_wt</th>\n",
       "      <th>pc</th>\n",
       "      <th>...</th>\n",
       "      <th>price_range</th>\n",
       "      <th>aspect_ratio</th>\n",
       "      <th>power_to_weight</th>\n",
       "      <th>n_cores_2</th>\n",
       "      <th>n_cores_3</th>\n",
       "      <th>n_cores_4</th>\n",
       "      <th>n_cores_5</th>\n",
       "      <th>n_cores_6</th>\n",
       "      <th>n_cores_7</th>\n",
       "      <th>n_cores_8</th>\n",
       "    </tr>\n",
       "  </thead>\n",
       "  <tbody>\n",
       "    <tr>\n",
       "      <th>0</th>\n",
       "      <td>0.362057</td>\n",
       "      <td>1</td>\n",
       "      <td>0.52</td>\n",
       "      <td>1</td>\n",
       "      <td>0.736842</td>\n",
       "      <td>0</td>\n",
       "      <td>0.048387</td>\n",
       "      <td>0.000000</td>\n",
       "      <td>0.941667</td>\n",
       "      <td>16</td>\n",
       "      <td>...</td>\n",
       "      <td>3</td>\n",
       "      <td>0.160172</td>\n",
       "      <td>0.129493</td>\n",
       "      <td>False</td>\n",
       "      <td>True</td>\n",
       "      <td>False</td>\n",
       "      <td>False</td>\n",
       "      <td>False</td>\n",
       "      <td>False</td>\n",
       "      <td>False</td>\n",
       "    </tr>\n",
       "    <tr>\n",
       "      <th>1</th>\n",
       "      <td>0.227121</td>\n",
       "      <td>1</td>\n",
       "      <td>0.00</td>\n",
       "      <td>1</td>\n",
       "      <td>0.210526</td>\n",
       "      <td>1</td>\n",
       "      <td>0.951613</td>\n",
       "      <td>0.777778</td>\n",
       "      <td>0.925000</td>\n",
       "      <td>12</td>\n",
       "      <td>...</td>\n",
       "      <td>1</td>\n",
       "      <td>0.871108</td>\n",
       "      <td>0.084509</td>\n",
       "      <td>False</td>\n",
       "      <td>False</td>\n",
       "      <td>False</td>\n",
       "      <td>True</td>\n",
       "      <td>False</td>\n",
       "      <td>False</td>\n",
       "      <td>False</td>\n",
       "    </tr>\n",
       "    <tr>\n",
       "      <th>2</th>\n",
       "      <td>0.872411</td>\n",
       "      <td>1</td>\n",
       "      <td>0.92</td>\n",
       "      <td>0</td>\n",
       "      <td>0.052632</td>\n",
       "      <td>0</td>\n",
       "      <td>0.403226</td>\n",
       "      <td>0.888889</td>\n",
       "      <td>0.883333</td>\n",
       "      <td>4</td>\n",
       "      <td>...</td>\n",
       "      <td>1</td>\n",
       "      <td>0.930395</td>\n",
       "      <td>0.323221</td>\n",
       "      <td>False</td>\n",
       "      <td>True</td>\n",
       "      <td>False</td>\n",
       "      <td>False</td>\n",
       "      <td>False</td>\n",
       "      <td>False</td>\n",
       "      <td>False</td>\n",
       "    </tr>\n",
       "    <tr>\n",
       "      <th>3</th>\n",
       "      <td>0.698063</td>\n",
       "      <td>0</td>\n",
       "      <td>0.00</td>\n",
       "      <td>1</td>\n",
       "      <td>0.947368</td>\n",
       "      <td>1</td>\n",
       "      <td>0.370968</td>\n",
       "      <td>0.444444</td>\n",
       "      <td>0.133333</td>\n",
       "      <td>20</td>\n",
       "      <td>...</td>\n",
       "      <td>1</td>\n",
       "      <td>0.168501</td>\n",
       "      <td>0.610341</td>\n",
       "      <td>False</td>\n",
       "      <td>False</td>\n",
       "      <td>False</td>\n",
       "      <td>False</td>\n",
       "      <td>False</td>\n",
       "      <td>False</td>\n",
       "      <td>True</td>\n",
       "    </tr>\n",
       "    <tr>\n",
       "      <th>4</th>\n",
       "      <td>0.623246</td>\n",
       "      <td>0</td>\n",
       "      <td>0.36</td>\n",
       "      <td>0</td>\n",
       "      <td>0.578947</td>\n",
       "      <td>1</td>\n",
       "      <td>0.758065</td>\n",
       "      <td>0.444444</td>\n",
       "      <td>0.233333</td>\n",
       "      <td>18</td>\n",
       "      <td>...</td>\n",
       "      <td>3</td>\n",
       "      <td>0.925360</td>\n",
       "      <td>0.483326</td>\n",
       "      <td>False</td>\n",
       "      <td>False</td>\n",
       "      <td>False</td>\n",
       "      <td>False</td>\n",
       "      <td>True</td>\n",
       "      <td>False</td>\n",
       "      <td>False</td>\n",
       "    </tr>\n",
       "  </tbody>\n",
       "</table>\n",
       "<p>5 rows × 29 columns</p>\n",
       "</div>"
      ],
      "text/plain": [
       "   battery_power  blue  clock_speed  dual_sim        fc  four_g  int_memory  \\\n",
       "0       0.362057     1         0.52         1  0.736842       0    0.048387   \n",
       "1       0.227121     1         0.00         1  0.210526       1    0.951613   \n",
       "2       0.872411     1         0.92         0  0.052632       0    0.403226   \n",
       "3       0.698063     0         0.00         1  0.947368       1    0.370968   \n",
       "4       0.623246     0         0.36         0  0.578947       1    0.758065   \n",
       "\n",
       "      m_dep  mobile_wt  pc  ...  price_range  aspect_ratio  power_to_weight  \\\n",
       "0  0.000000   0.941667  16  ...            3      0.160172         0.129493   \n",
       "1  0.777778   0.925000  12  ...            1      0.871108         0.084509   \n",
       "2  0.888889   0.883333   4  ...            1      0.930395         0.323221   \n",
       "3  0.444444   0.133333  20  ...            1      0.168501         0.610341   \n",
       "4  0.444444   0.233333  18  ...            3      0.925360         0.483326   \n",
       "\n",
       "   n_cores_2  n_cores_3  n_cores_4  n_cores_5  n_cores_6  n_cores_7  n_cores_8  \n",
       "0      False       True      False      False      False      False      False  \n",
       "1      False      False      False       True      False      False      False  \n",
       "2      False       True      False      False      False      False      False  \n",
       "3      False      False      False      False      False      False       True  \n",
       "4      False      False      False      False       True      False      False  \n",
       "\n",
       "[5 rows x 29 columns]"
      ]
     },
     "execution_count": 14,
     "metadata": {},
     "output_type": "execute_result"
    }
   ],
   "source": [
    "test_data.head()"
   ]
  },
  {
   "cell_type": "markdown",
   "metadata": {},
   "source": [
    "## 1.10. Lưu dữ liệu đã tiền xử lí\n"
   ]
  },
  {
   "cell_type": "code",
   "execution_count": 15,
   "metadata": {},
   "outputs": [],
   "source": [
    "# Save to file\n",
    "train_data.to_csv(\"./data/train_processed.csv\", index=False)\n",
    "test_data.to_csv(\"./data/test_processed.csv\", index=False)"
   ]
  },
  {
   "cell_type": "markdown",
   "metadata": {},
   "source": [
    "## 1.11. Chia dữ liệu thành tập huấn luyện và tập validation\n"
   ]
  },
  {
   "cell_type": "code",
   "execution_count": 16,
   "metadata": {},
   "outputs": [],
   "source": [
    "train_data, val_data = preprocessing.train_test_split(\n",
    "    train_data, test_size=0.2, random_state=42\n",
    ")"
   ]
  },
  {
   "cell_type": "code",
   "execution_count": 17,
   "metadata": {},
   "outputs": [
    {
     "name": "stdout",
     "output_type": "stream",
     "text": [
      "X_train shape: (1600, 28)\n",
      "y_train shape: (1600,)\n",
      "X_val shape: (400, 28)\n",
      "y_val shape: (400,)\n",
      "X_test shape: (1000, 28)\n",
      "y_test shape: (1000,)\n",
      "Dữ liệu đã tiền xử lý sẵn sàng!\n"
     ]
    }
   ],
   "source": [
    "X_train = train_data.drop(columns=[\"price_range\"]).values\n",
    "y_train = train_data[\"price_range\"].values\n",
    "X_val = val_data.drop(columns=[\"price_range\"]).values\n",
    "y_val = val_data[\"price_range\"].values\n",
    "X_test = test_data.drop(columns=[\"price_range\"]).values\n",
    "y_test = test_data[\"price_range\"].values\n",
    "\n",
    "print(\"X_train shape:\", X_train.shape)\n",
    "print(\"y_train shape:\", y_train.shape)\n",
    "print(\"X_val shape:\", X_val.shape)\n",
    "print(\"y_val shape:\", y_val.shape)\n",
    "print(\"X_test shape:\", X_test.shape)\n",
    "print(\"y_test shape:\", y_test.shape)\n",
    "\n",
    "n_features = X_train.shape[1]\n",
    "\n",
    "print(\"Dữ liệu đã tiền xử lý sẵn sàng!\")"
   ]
  },
  {
   "cell_type": "markdown",
   "metadata": {},
   "source": [
    "# 2. Xây dựng mô hình\n",
    "\n",
    "## 2.1. Import thư viện\n"
   ]
  },
  {
   "cell_type": "code",
   "execution_count": 18,
   "metadata": {},
   "outputs": [],
   "source": [
    "# Tìm kiếm mô hình tốt nhất\n",
    "from models.tuning import lightgbm_tuning, random_forest_tuning, neural_network_tuning\n",
    "import time"
   ]
  },
  {
   "cell_type": "markdown",
   "metadata": {},
   "source": [
    "## 2.2. Huấn luyện và đánh giá mô hình Random Forest\n"
   ]
  },
  {
   "cell_type": "code",
   "execution_count": 19,
   "metadata": {},
   "outputs": [],
   "source": [
    "rf_param_grid = {\n",
    "    \"n_estimators\": [\n",
    "        10,\n",
    "        20,\n",
    "        # 30,\n",
    "        # 40,\n",
    "        # 50,\n",
    "        # 100,\n",
    "    ],\n",
    "    \"max_depth\": [\n",
    "        # 3,\n",
    "        5,\n",
    "        7,\n",
    "        # 9,\n",
    "        None,\n",
    "    ],  # None = không giới hạn độ sâu\n",
    "    \"min_samples_split\": [\n",
    "        2,\n",
    "        # 5,\n",
    "        # 10,\n",
    "        # None, for decoration\n",
    "    ],\n",
    "    \"min_samples_leaf\": [\n",
    "        1,\n",
    "        2,\n",
    "        # 4,\n",
    "        # None, for decoration\n",
    "    ],\n",
    "}\n",
    "\n",
    "n_rf_hyperparams = np.prod(\n",
    "    [len(v) for v in rf_param_grid.values()]\n",
    ")  # Số lượng hyperparams"
   ]
  },
  {
   "cell_type": "code",
   "execution_count": 20,
   "metadata": {},
   "outputs": [
    {
     "name": "stderr",
     "output_type": "stream",
     "text": [
      "2025-01-05 22:32:35,881 - INFO - Using 18 workers for hyperparameter tuning\n",
      "2025-01-05 22:32:35,946 - INFO - Total tasks to complete: 12\n",
      "2025-01-05 22:33:05,093 - INFO - Task 1/12 completed with: n_estimators=10, max_depth=5, min_samples_split=2, min_samples_leaf=1, train_acc=0.8931, val_acc=0.8200, start_time=2025-01-05 22:32:36, end_time=2025-01-05 22:33:05, training_time=28.91s\n",
      "2025-01-05 22:33:05,455 - INFO - Task 2/12 completed with: n_estimators=10, max_depth=5, min_samples_split=2, min_samples_leaf=2, train_acc=0.8919, val_acc=0.8200, start_time=2025-01-05 22:32:36, end_time=2025-01-05 22:33:05, training_time=29.27s\n",
      "2025-01-05 22:33:14,059 - INFO - Task 3/12 completed with: n_estimators=10, max_depth=7, min_samples_split=2, min_samples_leaf=1, train_acc=0.9675, val_acc=0.8650, start_time=2025-01-05 22:32:36, end_time=2025-01-05 22:33:14, training_time=37.88s\n",
      "2025-01-05 22:33:16,566 - INFO - Task 4/12 completed with: n_estimators=10, max_depth=7, min_samples_split=2, min_samples_leaf=2, train_acc=0.9600, val_acc=0.8725, start_time=2025-01-05 22:32:36, end_time=2025-01-05 22:33:16, training_time=40.38s\n",
      "2025-01-05 22:33:17,858 - INFO - Task 5/12 completed with: n_estimators=10, max_depth=None, min_samples_split=2, min_samples_leaf=2, train_acc=0.9731, val_acc=0.8700, start_time=2025-01-05 22:32:36, end_time=2025-01-05 22:33:17, training_time=41.66s\n",
      "2025-01-05 22:33:19,907 - INFO - Task 6/12 completed with: n_estimators=10, max_depth=None, min_samples_split=2, min_samples_leaf=1, train_acc=0.9969, val_acc=0.8675, start_time=2025-01-05 22:32:36, end_time=2025-01-05 22:33:19, training_time=43.71s\n",
      "2025-01-05 22:33:28,874 - INFO - Task 7/12 completed with: n_estimators=20, max_depth=5, min_samples_split=2, min_samples_leaf=2, train_acc=0.9019, val_acc=0.8275, start_time=2025-01-05 22:32:36, end_time=2025-01-05 22:33:28, training_time=52.66s\n",
      "2025-01-05 22:33:29,044 - INFO - Task 8/12 completed with: n_estimators=20, max_depth=5, min_samples_split=2, min_samples_leaf=1, train_acc=0.9031, val_acc=0.8300, start_time=2025-01-05 22:32:36, end_time=2025-01-05 22:33:29, training_time=52.85s\n",
      "2025-01-05 22:33:39,866 - INFO - Task 9/12 completed with: n_estimators=20, max_depth=7, min_samples_split=2, min_samples_leaf=2, train_acc=0.9656, val_acc=0.8950, start_time=2025-01-05 22:32:36, end_time=2025-01-05 22:33:39, training_time=63.63s\n",
      "2025-01-05 22:33:40,198 - INFO - Task 10/12 completed with: n_estimators=20, max_depth=7, min_samples_split=2, min_samples_leaf=1, train_acc=0.9712, val_acc=0.8825, start_time=2025-01-05 22:32:36, end_time=2025-01-05 22:33:40, training_time=63.98s\n",
      "2025-01-05 22:33:45,434 - INFO - Task 11/12 completed with: n_estimators=20, max_depth=None, min_samples_split=2, min_samples_leaf=2, train_acc=0.9819, val_acc=0.8825, start_time=2025-01-05 22:32:36, end_time=2025-01-05 22:33:45, training_time=69.13s\n",
      "2025-01-05 22:33:48,223 - INFO - Task 12/12 completed with: n_estimators=20, max_depth=None, min_samples_split=2, min_samples_leaf=1, train_acc=0.9994, val_acc=0.8750, start_time=2025-01-05 22:32:36, end_time=2025-01-05 22:33:48, training_time=71.92s\n",
      "2025-01-05 22:34:32,235 - INFO - Hyperparameter tuning completed.\n",
      "2025-01-05 22:34:32,235 - INFO - Best parameters: {'n_estimators': 20, 'max_depth': 7, 'min_samples_split': 2, 'min_samples_leaf': 2}, Best Validation Accuracy: 0.8950\n"
     ]
    },
    {
     "name": "stdout",
     "output_type": "stream",
     "text": [
      "==========> Best validation accuracy: 0.8950\n",
      "==========> Best parameters: {'n_estimators': 20, 'max_depth': 7, 'min_samples_split': 2, 'min_samples_leaf': 2}\n",
      "==========> Test accuracy: 0.2370\n"
     ]
    }
   ],
   "source": [
    "# Lấy thời gian hiện tại và tạo chuỗi thời gian\n",
    "current_time = time.strftime(\"%Y%m%d_%H%M%S\")\n",
    "criterion = \"entropy\"\n",
    "# Đặt tên file đầu ra với chuỗi thời gian\n",
    "rf_output_file = f\"./output/{current_time}_random_forest_best_params_{n_rf_hyperparams}_{n_features}_{criterion}.csv\"\n",
    "\n",
    "# Tìm mô hình tốt nhất dựa trên validation set\n",
    "best_rf_model, best_rf_params, best_rf_val_acc = (\n",
    "    random_forest_tuning.random_forest_hyperparameter_tuning(\n",
    "        X_train,\n",
    "        y_train,\n",
    "        X_val,\n",
    "        y_val,\n",
    "        param_grid=rf_param_grid,\n",
    "        output_file=rf_output_file,\n",
    "        max_workers=MAX_WORKERS,\n",
    "    )\n",
    ")\n",
    "\n",
    "print(f\"==========> Best validation accuracy: {best_rf_val_acc:.4f}\")\n",
    "print(f\"==========> Best parameters: {best_rf_params}\")\n",
    "\n",
    "# Đánh giá trên tập test\n",
    "test_rf_accuracy = best_rf_model.evaluate(X_test, y_test)\n",
    "print(f\"==========> Test accuracy: {test_rf_accuracy:.4f}\")"
   ]
  },
  {
   "cell_type": "code",
   "execution_count": 22,
   "metadata": {},
   "outputs": [
    {
     "name": "stdout",
     "output_type": "stream",
     "text": [
      "==========> Test accuracy: 0.2370\n"
     ]
    }
   ],
   "source": [
    "from models.random_forest import RandomForestModel\n",
    "\n",
    "# Load model\n",
    "loaded_rf_model = RandomForestModel()\n",
    "loaded_rf_model.load_model_weights(\"weights_random_forest_best.json\")\n",
    "\n",
    "# Đánh giá trên tập test\n",
    "test_rf_loaded_accuracy = loaded_rf_model.evaluate(X_test, y_test)\n",
    "print(f\"==========> Test accuracy: {test_rf_loaded_accuracy:.4f}\")"
   ]
  },
  {
   "cell_type": "markdown",
   "metadata": {},
   "source": [
    "## 2.3. Huấn luyện và đánh giá mô hình LightGBM\n"
   ]
  },
  {
   "cell_type": "code",
   "execution_count": 23,
   "metadata": {},
   "outputs": [],
   "source": [
    "lightgbm_param_grid = {\n",
    "    \"n_estimators\": [\n",
    "        10,\n",
    "        # 20,\n",
    "        # 30,\n",
    "        # 40,\n",
    "        50,\n",
    "    ],\n",
    "    \"learning_rate\": [\n",
    "        # 0.01,\n",
    "        # 0.05,\n",
    "        0.1,\n",
    "    ],\n",
    "    \"max_depth\": [\n",
    "        3,\n",
    "        # 5,\n",
    "        # 7,\n",
    "        # 9,\n",
    "        # None,\n",
    "    ],\n",
    "    \"lambda_l1\": [\n",
    "        0.0,\n",
    "        # 0.001,\n",
    "        0.01,\n",
    "        # 0.1,\n",
    "        # 1.0\n",
    "    ],\n",
    "    \"lambda_l2\": [\n",
    "        0.0,\n",
    "        # 0.001,\n",
    "        0.01,\n",
    "        # 0.1,\n",
    "        # 1.0\n",
    "    ],\n",
    "}\n",
    "\n",
    "n_lightgbm_params = np.prod([len(v) for v in lightgbm_param_grid.values()])"
   ]
  },
  {
   "cell_type": "code",
   "execution_count": 24,
   "metadata": {},
   "outputs": [
    {
     "name": "stderr",
     "output_type": "stream",
     "text": [
      "2025-01-05 22:35:19,496 - INFO - Using 18 workers for hyperparameter tuning\n",
      "2025-01-05 22:35:19,531 - INFO - Total tasks to complete: 8\n",
      "2025-01-05 22:35:37,168 - INFO - Task 1/8 completed with: n_estimators=10, learning_rate=0.1, max_depth=3, lambda_l1=0.01, lambda_l2=0.01, train_acc=0.5050, val_acc=0.4850, start_time=2025-01-05 22:35:19, end_time=2025-01-05 22:35:37, training_time=17.43s\n",
      "2025-01-05 22:35:37,613 - INFO - Task 2/8 completed with: n_estimators=10, learning_rate=0.1, max_depth=3, lambda_l1=0.0, lambda_l2=0.01, train_acc=0.5050, val_acc=0.4850, start_time=2025-01-05 22:35:19, end_time=2025-01-05 22:35:37, training_time=17.87s\n",
      "2025-01-05 22:35:37,735 - INFO - Task 3/8 completed with: n_estimators=10, learning_rate=0.1, max_depth=3, lambda_l1=0.0, lambda_l2=0.0, train_acc=0.5056, val_acc=0.4850, start_time=2025-01-05 22:35:19, end_time=2025-01-05 22:35:37, training_time=17.99s\n",
      "2025-01-05 22:35:37,883 - INFO - Task 4/8 completed with: n_estimators=10, learning_rate=0.1, max_depth=3, lambda_l1=0.01, lambda_l2=0.0, train_acc=0.5050, val_acc=0.4850, start_time=2025-01-05 22:35:19, end_time=2025-01-05 22:35:37, training_time=18.15s\n",
      "2025-01-05 22:36:35,920 - INFO - Task 5/8 completed with: n_estimators=50, learning_rate=0.1, max_depth=3, lambda_l1=0.0, lambda_l2=0.0, train_acc=0.9656, val_acc=0.9100, start_time=2025-01-05 22:35:19, end_time=2025-01-05 22:36:35, training_time=76.15s\n",
      "2025-01-05 22:36:36,237 - INFO - Task 6/8 completed with: n_estimators=50, learning_rate=0.1, max_depth=3, lambda_l1=0.01, lambda_l2=0.0, train_acc=0.9663, val_acc=0.9100, start_time=2025-01-05 22:35:19, end_time=2025-01-05 22:36:36, training_time=76.45s\n",
      "2025-01-05 22:36:36,382 - INFO - Task 7/8 completed with: n_estimators=50, learning_rate=0.1, max_depth=3, lambda_l1=0.01, lambda_l2=0.01, train_acc=0.9587, val_acc=0.9000, start_time=2025-01-05 22:35:19, end_time=2025-01-05 22:36:36, training_time=76.59s\n",
      "2025-01-05 22:36:36,679 - INFO - Task 8/8 completed with: n_estimators=50, learning_rate=0.1, max_depth=3, lambda_l1=0.0, lambda_l2=0.01, train_acc=0.9650, val_acc=0.9100, start_time=2025-01-05 22:35:19, end_time=2025-01-05 22:36:36, training_time=76.90s\n",
      "2025-01-05 22:37:43,311 - INFO - Hyperparameter tuning completed.\n",
      "2025-01-05 22:37:43,312 - INFO - Best parameters: {'n_estimators': 50, 'learning_rate': 0.1, 'max_depth': 3, 'lambda_l1': 0.0, 'lambda_l2': 0.0}, Best Validation Accuracy: 0.9100\n"
     ]
    },
    {
     "name": "stdout",
     "output_type": "stream",
     "text": [
      "==========> Best validation accuracy: 0.9100\n",
      "==========> Best parameters: {'n_estimators': 50, 'learning_rate': 0.1, 'max_depth': 3, 'lambda_l1': 0.0, 'lambda_l2': 0.0}\n",
      "==========> Test accuracy: 0.2370\n"
     ]
    }
   ],
   "source": [
    "# Lấy thời gian hiện tại và tạo chuỗi thời gian\n",
    "current_time = time.strftime(\"%Y%m%d_%H%M%S\")\n",
    "\n",
    "# Đặt tên file đầu ra với chuỗi thời gian\n",
    "lightgbm_output_file = (\n",
    "    f\"./output/{current_time}_lightgbm_best_params_{n_lightgbm_params}_{n_features}.csv\"\n",
    ")\n",
    "\n",
    "best_lightgbm_model, best_lightgbm_params, best_lightgbm_val_acc = (\n",
    "    lightgbm_tuning.lightgbm_hyperparameter_tuning(\n",
    "        X_train,\n",
    "        y_train,\n",
    "        X_val,\n",
    "        y_val,\n",
    "        param_grid=lightgbm_param_grid,\n",
    "        output_file=lightgbm_output_file,\n",
    "        max_workers=MAX_WORKERS,\n",
    "    )\n",
    ")\n",
    "\n",
    "print(f\"==========> Best validation accuracy: {best_lightgbm_val_acc:.4f}\")\n",
    "print(f\"==========> Best parameters: {best_lightgbm_params}\")\n",
    "\n",
    "# Đánh giá trên tập test\n",
    "test_lightgbm_accuracy = best_lightgbm_model.evaluate(X_test, y_test)\n",
    "print(f\"==========> Test accuracy: {test_lightgbm_accuracy:.4f}\")"
   ]
  },
  {
   "cell_type": "code",
   "execution_count": 25,
   "metadata": {},
   "outputs": [
    {
     "name": "stdout",
     "output_type": "stream",
     "text": [
      "==========> Test accuracy: 0.2370\n"
     ]
    }
   ],
   "source": [
    "from models.lightgbm import LightGBMModel\n",
    "\n",
    "# Load model\n",
    "loaded_lightgbm_model = LightGBMModel()\n",
    "loaded_lightgbm_model.load_model_weights(\"weights_lightgbm_best.json\")\n",
    "\n",
    "# Đánh giá trên tập test\n",
    "test_lightgbm_loaded_accuracy = loaded_lightgbm_model.evaluate(X_test, y_test)\n",
    "print(f\"==========> Test accuracy: {test_lightgbm_loaded_accuracy:.4f}\")"
   ]
  },
  {
   "cell_type": "markdown",
   "metadata": {},
   "source": [
    "## 2.4. Huấn luyện và đánh giá mô hình Neural Network\n",
    "\n",
    "Sau khi chạy thử nghiệm mô hình Neural Network nhiều lần, em nhận thấy mô hình này không phù hợp với dữ liệu của bài toán. Do đó, em sẽ không sử dụng mô hình Neural Network trong bài làm này. (ngay cả khi em thử bỏ các đặc trưng dạng binary, mô hình vẫn không hiệu quả)\n",
    "\n",
    "Thầy có thể tham khảo kết quả của quá trình huấn luyện tại 2 sheet trong trang [Google Sheet này](https://docs.google.com/spreadsheets/d/1FCYKaQQGHqZ_cgiAy3avVQ2tUBjgDqjQdChD2TFzslw/edit?usp=sharing)\n"
   ]
  },
  {
   "cell_type": "code",
   "execution_count": null,
   "metadata": {},
   "outputs": [],
   "source": [
    "# # Main Workflow for Neural Network Tuning\n",
    "\n",
    "# nn_param_grid = {\n",
    "#     \"hidden_layer_sizes\": [\n",
    "#         [64, 32],\n",
    "#         # [128, 64],\n",
    "#         # [128, 64, 32],\n",
    "#         # [256, 128, 64],\n",
    "#         # [128, 128, 64, 32],\n",
    "#         # None, # Decorator\n",
    "#     ],\n",
    "#     \"activation\": [\n",
    "#         \"relu\",\n",
    "#         # \"sigmoid\",\n",
    "#         # None, # Decorator,\n",
    "#     ],\n",
    "#     \"learning_rate\": [\n",
    "#         0.01,\n",
    "#         # 0.001,\n",
    "#         # 0.0001,\n",
    "#         # None, # Decorator\n",
    "#     ],\n",
    "#     \"epochs\": [\n",
    "#         50,\n",
    "#         # 100,\n",
    "#         # 200,\n",
    "#         # None, # Decorator\n",
    "#     ],\n",
    "#     \"batch_size\": [\n",
    "#         32,\n",
    "#         # 64,\n",
    "#         # None, # Decorator\n",
    "#     ],\n",
    "#     \"dropout_rate\": [\n",
    "#         0.2,\n",
    "#         # 0.3,\n",
    "#         # 0.4,\n",
    "#         # 0.5,\n",
    "#         # 0.6,\n",
    "#         # None, # Decorator\n",
    "#     ],\n",
    "#     \"l2_lambda\": [\n",
    "#         0.01,\n",
    "#         # 0.001,\n",
    "#         # 0.0001,\n",
    "#         # None, # Decorator\n",
    "#     ],\n",
    "# }\n",
    "\n",
    "# n_nn_hyperparams = np.prod([len(v) for v in nn_param_grid.values()])\n",
    "\n",
    "# # Lấy thời gian hiện tại và tạo chuỗi thời gian\n",
    "# current_time = time.strftime(\"%Y%m%d_%H%M%S\")\n",
    "# # Đặt tên file đầu ra với chuỗi thời gian\n",
    "# nn_output_file = f\"./output/{current_time}_neural_network_best_params_{n_nn_hyperparams}_{n_features}.csv\"\n",
    "\n",
    "# # Tìm mô hình tốt nhất dựa trên validation set\n",
    "# best_nn_params, best_nn_val_acc, best_nn_model = (\n",
    "#     neural_network_tuning.neural_network_hyperparameter_tuning(\n",
    "#         X_train,\n",
    "#         y_train,\n",
    "#         X_val,\n",
    "#         y_val,\n",
    "#         param_grid=nn_param_grid,\n",
    "#         output_file=nn_output_file,\n",
    "#         max_workers=MAX_WORKERS,\n",
    "#     )\n",
    "# )\n",
    "\n",
    "# print(f\"==========> Best validation accuracy: {best_nn_val_acc:.4f}\")\n",
    "# print(f\"==========> Best parameters: {best_nn_params}\")\n",
    "\n",
    "# if best_nn_model is None:\n",
    "#     print(\"No valid model found. Skipping test evaluation.\")\n",
    "# else:\n",
    "#     test_accuracy = best_nn_model.evaluate(X_test, y_test)\n",
    "#     print(f\"==========> Test accuracy: {test_accuracy:.4f}\")"
   ]
  }
 ],
 "metadata": {
  "kernelspec": {
   "display_name": ".venv",
   "language": "python",
   "name": "python3"
  },
  "language_info": {
   "codemirror_mode": {
    "name": "ipython",
    "version": 3
   },
   "file_extension": ".py",
   "mimetype": "text/x-python",
   "name": "python",
   "nbconvert_exporter": "python",
   "pygments_lexer": "ipython3",
   "version": "3.12.4"
  }
 },
 "nbformat": 4,
 "nbformat_minor": 2
}
